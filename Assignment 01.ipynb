{
  "nbformat": 4,
  "nbformat_minor": 0,
  "metadata": {
    "colab": {
      "name": "Assignment 01.ipynb",
      "provenance": [],
      "authorship_tag": "ABX9TyM5cy38tfeBBkYp47pKCV6E",
      "include_colab_link": true
    },
    "kernelspec": {
      "name": "python3",
      "display_name": "Python 3"
    },
    "language_info": {
      "name": "python"
    }
  },
  "cells": [
    {
      "cell_type": "markdown",
      "metadata": {
        "id": "view-in-github",
        "colab_type": "text"
      },
      "source": [
        "<a href=\"https://colab.research.google.com/github/18K41A0256/NNDL/blob/main/Assignment%2001.ipynb\" target=\"_parent\"><img src=\"https://colab.research.google.com/assets/colab-badge.svg\" alt=\"Open In Colab\"/></a>"
      ]
    },
    {
      "cell_type": "markdown",
      "metadata": {
        "id": "L05DI5CxeDi3"
      },
      "source": [
        "Manual Calculations"
      ]
    },
    {
      "cell_type": "code",
      "metadata": {
        "id": "nMZZctwiJn0H",
        "colab": {
          "base_uri": "https://localhost:8080/"
        },
        "outputId": "47b55448-d0eb-47bc-8ac6-3f5edeaa7930"
      },
      "source": [
        "# given function is pow(x,4)+3*pow(x,2)+10\n",
        "\n",
        "x = 3 # initial x value\n",
        "learning_rate = 0.01 # learning rate\n",
        "print(\"learning rate : \",learning_rate)\n",
        "print(\"Initial x : \",x)\n",
        "\n",
        "print(\"\\nEpoch 1\")\n",
        "gradient_f_at_x = (4*x**3 + 6*x)\n",
        "print(\"gradient_f_at_x : \",gradient_f_at_x)\n",
        "delta_x = -1*learning_rate*gradient_f_at_x\n",
        "print(\"delta_x : \",delta_x)\n",
        "x = x + delta_x\n",
        "print(\"x : \",x)\n",
        "\n",
        "print(\"\\nEpoch 2\")\n",
        "gradient_f_at_x = (4*x**3 + 6*x)\n",
        "print(\"gradient_f_at_x : \",gradient_f_at_x)\n",
        "delta_x = -1*learning_rate*gradient_f_at_x\n",
        "print(\"delta_x : \",delta_x)\n",
        "x = x + delta_x\n",
        "print(\"x : \",x)"
      ],
      "execution_count": 1,
      "outputs": [
        {
          "output_type": "stream",
          "text": [
            "learning rate :  0.01\n",
            "Initial x :  3\n",
            "\n",
            "Epoch 1\n",
            "gradient_f_at_x :  126\n",
            "delta_x :  -1.26\n",
            "x :  1.74\n",
            "\n",
            "Epoch 2\n",
            "gradient_f_at_x :  31.512096\n",
            "delta_x :  -0.31512096\n",
            "x :  1.42487904\n"
          ],
          "name": "stdout"
        }
      ]
    },
    {
      "cell_type": "markdown",
      "metadata": {
        "id": "1jYF4k35eVNr"
      },
      "source": [
        "Code"
      ]
    },
    {
      "cell_type": "code",
      "metadata": {
        "id": "X22hkVKkeZYs"
      },
      "source": [
        "# given function is pow(x,4)+3*pow(x,2)+10\n",
        "\n",
        "x = 3 # initial x value\n",
        "learning_rate = 0.01 # learning rate\n",
        "epochs = 100 # number of epochs\n",
        "\n",
        "# function to find the gradient descent\n",
        "def gradient(x):\n",
        "  return 4*pow(x,3)+6*x"
      ],
      "execution_count": 3,
      "outputs": []
    },
    {
      "cell_type": "code",
      "metadata": {
        "id": "dn8OBVcGehhp"
      },
      "source": [
        "# training loop\n",
        "for i in range(0,epochs):\n",
        "  grad = gradient(x)\n",
        "  delta_x = -1*learning_rate*grad\n",
        "  x = x + delta_x"
      ],
      "execution_count": 4,
      "outputs": []
    },
    {
      "cell_type": "code",
      "metadata": {
        "colab": {
          "base_uri": "https://localhost:8080/"
        },
        "id": "sq5jySQNewQs",
        "outputId": "b7d364c8-b15e-404f-9fd5-745c6846c88b"
      },
      "source": [
        "# optimal value of x\n",
        "print(x)"
      ],
      "execution_count": 5,
      "outputs": [
        {
          "output_type": "stream",
          "text": [
            "0.002069222197565439\n"
          ],
          "name": "stdout"
        }
      ]
    },
    {
      "cell_type": "code",
      "metadata": {
        "colab": {
          "base_uri": "https://localhost:8080/"
        },
        "id": "Tc8bUW3se19j",
        "outputId": "cba56b0a-7d3f-4f3c-cba1-07dc00d493ae"
      },
      "source": [
        "# minimal value of the given function\n",
        "print(pow(x,4)+3*pow(x,2)+10)"
      ],
      "execution_count": 6,
      "outputs": [
        {
          "output_type": "stream",
          "text": [
            "10.00001284505984\n"
          ],
          "name": "stdout"
        }
      ]
    }
  ]
}