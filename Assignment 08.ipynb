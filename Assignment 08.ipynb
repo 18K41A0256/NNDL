{
  "nbformat": 4,
  "nbformat_minor": 0,
  "metadata": {
    "colab": {
      "name": "Assignment 08.ipynb",
      "provenance": [],
      "authorship_tag": "ABX9TyMexENNRKpQpjiK1eFgPGKe",
      "include_colab_link": true
    },
    "kernelspec": {
      "name": "python3",
      "display_name": "Python 3"
    },
    "language_info": {
      "name": "python"
    }
  },
  "cells": [
    {
      "cell_type": "markdown",
      "metadata": {
        "id": "view-in-github",
        "colab_type": "text"
      },
      "source": [
        "<a href=\"https://colab.research.google.com/github/18K41A0256/NNDL/blob/main/Assignment%2008.ipynb\" target=\"_parent\"><img src=\"https://colab.research.google.com/assets/colab-badge.svg\" alt=\"Open In Colab\"/></a>"
      ]
    },
    {
      "cell_type": "code",
      "metadata": {
        "id": "JrrIe_rrKCWp"
      },
      "source": [
        "import math\n",
        "import matplotlib.pyplot as plt\n",
        "import pandas as pd\n",
        "import numpy as np\n",
        "import seaborn as sns\n",
        "from scipy import stats\n",
        "from sklearn.preprocessing import minmax_scale\n",
        "from sklearn.model_selection import train_test_split"
      ],
      "execution_count": 1,
      "outputs": []
    },
    {
      "cell_type": "code",
      "metadata": {
        "colab": {
          "base_uri": "https://localhost:8080/",
          "height": 314
        },
        "id": "Nc5d8lwIKLEc",
        "outputId": "00256ab0-63b1-4350-e4bf-3cfffe95caf1"
      },
      "source": [
        "data = pd.read_excel(\"/content/slr08.xls\")\n",
        "data.describe()"
      ],
      "execution_count": 2,
      "outputs": [
        {
          "output_type": "stream",
          "text": [
            "*** No CODEPAGE record, no encoding_override: will use 'ascii'\n"
          ],
          "name": "stdout"
        },
        {
          "output_type": "execute_result",
          "data": {
            "text/html": [
              "<div>\n",
              "<style scoped>\n",
              "    .dataframe tbody tr th:only-of-type {\n",
              "        vertical-align: middle;\n",
              "    }\n",
              "\n",
              "    .dataframe tbody tr th {\n",
              "        vertical-align: top;\n",
              "    }\n",
              "\n",
              "    .dataframe thead th {\n",
              "        text-align: right;\n",
              "    }\n",
              "</style>\n",
              "<table border=\"1\" class=\"dataframe\">\n",
              "  <thead>\n",
              "    <tr style=\"text-align: right;\">\n",
              "      <th></th>\n",
              "      <th>X</th>\n",
              "      <th>Y</th>\n",
              "    </tr>\n",
              "  </thead>\n",
              "  <tbody>\n",
              "    <tr>\n",
              "      <th>count</th>\n",
              "      <td>30.000000</td>\n",
              "      <td>30.000000</td>\n",
              "    </tr>\n",
              "    <tr>\n",
              "      <th>mean</th>\n",
              "      <td>90.273333</td>\n",
              "      <td>514.963333</td>\n",
              "    </tr>\n",
              "    <tr>\n",
              "      <th>std</th>\n",
              "      <td>16.986078</td>\n",
              "      <td>39.535096</td>\n",
              "    </tr>\n",
              "    <tr>\n",
              "      <th>min</th>\n",
              "      <td>62.200000</td>\n",
              "      <td>406.700000</td>\n",
              "    </tr>\n",
              "    <tr>\n",
              "      <th>25%</th>\n",
              "      <td>75.300000</td>\n",
              "      <td>505.250000</td>\n",
              "    </tr>\n",
              "    <tr>\n",
              "      <th>50%</th>\n",
              "      <td>89.150000</td>\n",
              "      <td>510.100000</td>\n",
              "    </tr>\n",
              "    <tr>\n",
              "      <th>75%</th>\n",
              "      <td>104.375000</td>\n",
              "      <td>519.850000</td>\n",
              "    </tr>\n",
              "    <tr>\n",
              "      <th>max</th>\n",
              "      <td>120.000000</td>\n",
              "      <td>578.600000</td>\n",
              "    </tr>\n",
              "  </tbody>\n",
              "</table>\n",
              "</div>"
            ],
            "text/plain": [
              "                X           Y\n",
              "count   30.000000   30.000000\n",
              "mean    90.273333  514.963333\n",
              "std     16.986078   39.535096\n",
              "min     62.200000  406.700000\n",
              "25%     75.300000  505.250000\n",
              "50%     89.150000  510.100000\n",
              "75%    104.375000  519.850000\n",
              "max    120.000000  578.600000"
            ]
          },
          "metadata": {
            "tags": []
          },
          "execution_count": 2
        }
      ]
    },
    {
      "cell_type": "code",
      "metadata": {
        "colab": {
          "base_uri": "https://localhost:8080/",
          "height": 282
        },
        "id": "0hedkZD5KZJh",
        "outputId": "9c2fd0fa-adeb-499d-f283-f4e87b6f477a"
      },
      "source": [
        "y = data.iloc[:,1]\n",
        "x = data.iloc[:,0]\n",
        "\n",
        "plt.scatter(x,y)"
      ],
      "execution_count": 3,
      "outputs": [
        {
          "output_type": "execute_result",
          "data": {
            "text/plain": [
              "<matplotlib.collections.PathCollection at 0x7f8e07e11850>"
            ]
          },
          "metadata": {
            "tags": []
          },
          "execution_count": 3
        },
        {
          "output_type": "display_data",
          "data": {
            "image/png": "[encoded data removed]",
            "text/plain": [
              "<Figure size 432x288 with 1 Axes>"
            ]
          },
          "metadata": {
            "tags": [],
            "needs_background": "light"
          }
        }
      ]
    },
    {
      "cell_type": "code",
      "metadata": {
        "colab": {
          "base_uri": "https://localhost:8080/"
        },
        "id": "xH-nySzhKfl3",
        "outputId": "b690c0e7-489b-4d3c-e3c5-f7db512f93ff"
      },
      "source": [
        "threshold = 3\n",
        "z = np.abs(stats.zscore(x))\n",
        "outliers = np.where(z > threshold)\n",
        "print(outliers[0])"
      ],
      "execution_count": 4,
      "outputs": [
        {
          "output_type": "stream",
          "text": [
            "[]\n"
          ],
          "name": "stdout"
        }
      ]
    },
    {
      "cell_type": "code",
      "metadata": {
        "id": "5RS2-mDbKkTJ"
      },
      "source": [
        "x = minmax_scale(x)\n",
        "y = minmax_scale(y)"
      ],
      "execution_count": 5,
      "outputs": []
    },
    {
      "cell_type": "code",
      "metadata": {
        "colab": {
          "base_uri": "https://localhost:8080/"
        },
        "id": "jPy1C8Q-KqYT",
        "outputId": "3f284b3c-721e-49dd-dea3-469650128e6b"
      },
      "source": [
        "x_train,x_test,y_train,y_test = train_test_split(x,y,test_size=0.2)\n",
        "print(len(x_train))\n",
        "print(len(y_train))\n",
        "print(len(x_test))\n",
        "print(len(y_test))"
      ],
      "execution_count": 6,
      "outputs": [
        {
          "output_type": "stream",
          "text": [
            "24\n",
            "24\n",
            "6\n",
            "6\n"
          ],
          "name": "stdout"
        }
      ]
    },
    {
      "cell_type": "code",
      "metadata": {
        "id": "Hh4WzPbWKwdG"
      },
      "source": [
        "def gradientm(x,y,m,c):\n",
        "  sum = 0\n",
        "  number_of_samples = len(x)\n",
        "  for i in range(number_of_samples):\n",
        "    gradm_of_i = (y[i]- m*x[i] - c)*x[i]\n",
        "    sum = sum + gradm_of_i\n",
        "  gradm = -1*(1/number_of_samples)*sum\n",
        "  return gradm\n",
        "\n",
        "def gradientc(x,y,m,c):\n",
        "  sum = 0\n",
        "  number_of_samples = len(x)\n",
        "  for i in range(number_of_samples):\n",
        "    gradc_of_i = (y[i]- m*x[i] - c)\n",
        "    sum = sum + gradc_of_i\n",
        "  gradc = -1*(1/number_of_samples)*sum\n",
        "  return gradc\n",
        "\n",
        "def error(x,y,m,c):\n",
        "  number_of_samples = len(x)\n",
        "  for i in range(number_of_samples):\n",
        "    error_value = 1*0.5*(1/number_of_samples)*math.pow((y[i] - m*x[i] - c), 2)\n",
        "  return error_value"
      ],
      "execution_count": 7,
      "outputs": []
    },
    {
      "cell_type": "code",
      "metadata": {
        "id": "Bh1Ig3sLK2lX"
      },
      "source": [
        "m = 1\n",
        "c = -1\n",
        "\n",
        "learning_rate = 0.1\n",
        "epochs = 300\n",
        "error_list = []\n",
        "\n",
        "for i in range(epochs):\n",
        "  error_list.append(error(x,y,m,c))\n",
        "  deltam = -1*learning_rate*gradientm(x,y,m,c)\n",
        "  deltac = -1*learning_rate*gradientc(x,y,m,c)\n",
        "  m = m + deltam\n",
        "  c = c + deltac"
      ],
      "execution_count": 8,
      "outputs": []
    },
    {
      "cell_type": "code",
      "metadata": {
        "colab": {
          "base_uri": "https://localhost:8080/",
          "height": 312
        },
        "id": "cWCg7FIjK4u1",
        "outputId": "4c0e6d60-51e8-4158-c501-a3da77cac5ba"
      },
      "source": [
        "x1 = range(epochs)\n",
        "y1 = error_list\n",
        "\n",
        "plt.plot(x1,y1)\n",
        "plt.xlabel(\"number of epochs\")\n",
        "plt.ylabel(\"error\")\n",
        "plt.title(\"error graph in case of Batch\")"
      ],
      "execution_count": 9,
      "outputs": [
        {
          "output_type": "execute_result",
          "data": {
            "text/plain": [
              "Text(0.5, 1.0, 'error graph in case of Batch')"
            ]
          },
          "metadata": {
            "tags": []
          },
          "execution_count": 9
        },
        {
          "output_type": "display_data",
          "data": {
            "image/png": "[encoded data removed]",
            "text/plain": [
              "<Figure size 432x288 with 1 Axes>"
            ]
          },
          "metadata": {
            "tags": [],
            "needs_background": "light"
          }
        }
      ]
    },
    {
      "cell_type": "code",
      "metadata": {
        "colab": {
          "base_uri": "https://localhost:8080/"
        },
        "id": "l9sS2uBPK926",
        "outputId": "c7fd80ab-b93e-4b1f-ed58-7d5fd7c6e972"
      },
      "source": [
        "train_error = error(x_train,y_train,m,c)\n",
        "test_error = error(x_test,y_test,m,c)\n",
        "\n",
        "print(\"training error : \",train_error)\n",
        "print(\"testing error : \",test_error)"
      ],
      "execution_count": 10,
      "outputs": [
        {
          "output_type": "stream",
          "text": [
            "training error :  2.691699940646878e-05\n",
            "testing error :  0.009299080955546346\n"
          ],
          "name": "stdout"
        }
      ]
    },
    {
      "cell_type": "code",
      "metadata": {
        "colab": {
          "base_uri": "https://localhost:8080/",
          "height": 298
        },
        "id": "EyrtTAUTLDji",
        "outputId": "d4ac29da-83ef-4aa7-acec-4c86f05bc0c3"
      },
      "source": [
        "x2 = x_test\n",
        "y2 = [m*i+c for i in x2]\n",
        "\n",
        "x1 = x_test\n",
        "y1 = y_test\n",
        "\n",
        "plt.plot(x2,y2)\n",
        "\n",
        "plt.scatter(x1,y1)\n",
        "\n",
        "plt.title(\"line which is generated after training\")"
      ],
      "execution_count": 11,
      "outputs": [
        {
          "output_type": "execute_result",
          "data": {
            "text/plain": [
              "Text(0.5, 1.0, 'line which is generated after training')"
            ]
          },
          "metadata": {
            "tags": []
          },
          "execution_count": 11
        },
        {
          "output_type": "display_data",
          "data": {
            "image/png": "[encoded data removed]",
            "text/plain": [
              "<Figure size 432x288 with 1 Axes>"
            ]
          },
          "metadata": {
            "tags": [],
            "needs_background": "light"
          }
        }
      ]
    },
    {
      "cell_type": "code",
      "metadata": {
        "colab": {
          "base_uri": "https://localhost:8080/"
        },
        "id": "hBFfgJijLNqg",
        "outputId": "0d07b2cc-eb7d-4307-e2ed-718dd3c32097"
      },
      "source": [
        "pressure_max = 120.000000\n",
        "pressure_min = 62.200000\n",
        "\n",
        "weight_max = 578.600000\n",
        "weight_min = 406.700000\n",
        "\n",
        "actual_pressure = float(input(\"enter the pressure value : \"))\n",
        "scaled_pressure = (actual_pressure - pressure_min)/(pressure_max-pressure_min)\n",
        "\n",
        "scaled_weight = scaled_pressure*m+c\n",
        "predicted_weight = scaled_weight*(weight_max-weight_min)+weight_min\n",
        "\n",
        "print(\"the predicted weight : \",predicted_weight)"
      ],
      "execution_count": 12,
      "outputs": [
        {
          "output_type": "stream",
          "text": [
            "enter the pressure value : 75\n",
            "the predicted weight :  511.9441069826885\n"
          ],
          "name": "stdout"
        }
      ]
    }
  ]
}