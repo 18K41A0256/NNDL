{
  "nbformat": 4,
  "nbformat_minor": 0,
  "metadata": {
    "colab": {
      "name": "Assignment 09.ipynb",
      "provenance": [],
      "authorship_tag": "ABX9TyNN7GyaKSAjYQ5zOqM9T62P",
      "include_colab_link": true
    },
    "kernelspec": {
      "name": "python3",
      "display_name": "Python 3"
    },
    "language_info": {
      "name": "python"
    }
  },
  "cells": [
    {
      "cell_type": "markdown",
      "metadata": {
        "id": "view-in-github",
        "colab_type": "text"
      },
      "source": [
        "<a href=\"https://colab.research.google.com/github/18K41A0256/NNDL/blob/main/Assignment%2009.ipynb\" target=\"_parent\"><img src=\"https://colab.research.google.com/assets/colab-badge.svg\" alt=\"Open In Colab\"/></a>"
      ]
    },
    {
      "cell_type": "code",
      "metadata": {
        "id": "TRKeOnWrz8QR"
      },
      "source": [
        "import math\n",
        "import random\n",
        "import matplotlib.pyplot as plt\n",
        "from random import shuffle"
      ],
      "execution_count": 1,
      "outputs": []
    },
    {
      "cell_type": "markdown",
      "metadata": {
        "id": "Wkl3oD4Z0iGU"
      },
      "source": [
        "Manual Calculations"
      ]
    },
    {
      "cell_type": "code",
      "metadata": {
        "id": "jzXYBbNY0jR8"
      },
      "source": [
        "def error(d,m,c):\n",
        "  sum = 0\n",
        "  for i in range(len(d)):\n",
        "    sum = sum + math.pow(d[i][1]-m*d[i][0]-c,2)\n",
        "  return 0.5*sum/len(d)"
      ],
      "execution_count": 2,
      "outputs": []
    },
    {
      "cell_type": "code",
      "metadata": {
        "id": "mtsbTYv60mc9"
      },
      "source": [
        "def gradm(d,m,c):\n",
        "  sum = 0\n",
        "  for i in range(len(d)):\n",
        "    sum = sum + (d[i][1]-m*d[i][0]-c)*d[i][0]\n",
        "  return -1*sum/len(d)"
      ],
      "execution_count": 3,
      "outputs": []
    },
    {
      "cell_type": "code",
      "metadata": {
        "id": "gTKspmA50rrO"
      },
      "source": [
        "def gradc(d,m,c):\n",
        "  sum = 0\n",
        "  for i in range(len(d)):\n",
        "    sum = sum + (d[i][1]-m*d[i][0]-c)\n",
        "  return -1*sum/len(d)"
      ],
      "execution_count": 5,
      "outputs": []
    },
    {
      "cell_type": "code",
      "metadata": {
        "colab": {
          "base_uri": "https://localhost:8080/"
        },
        "id": "M3Qyy59X01EF",
        "outputId": "ff187789-93a1-41e5-b99e-ceec70a14730"
      },
      "source": [
        "x = [0.2,0.4,0.6,0.8,1.0,1.2]\n",
        "y = [3.4,3.8,4.2,4.6,5.0,5.4]\n",
        "print(\"sample x values : \", x)\n",
        "print(\"sample y values : \", y)\n",
        "\n",
        "data = [(x[i],y[i]) for i in range(0,6)]\n",
        "\n",
        "m = 1\n",
        "c = -1\n",
        "print(\"initial m value : \",m)\n",
        "print(\"initial c value : \",c)\n",
        "\n",
        "learning_rate = 0.01\n",
        "print(\"learning rate : \",learning_rate)\n",
        "\n",
        "batch_size = 2\n",
        "print(\"batch size : \",batch_size)\n",
        "\n",
        "v_m = 0\n",
        "v_c = 0\n",
        "print(\"initial values of vm and vc : \",v_m,v_c)\n",
        "\n",
        "momentum_coeff = 0.9\n",
        "print(\"momentum_coeff : \",momentum_coeff)\n",
        "\n",
        "print(\"\\nBatch 1\")\n",
        "gradient_m = gradm(data[:2],m,c)\n",
        "print(\"gradient of m for batch 1 : \",gradient_m)\n",
        "gradient_c = gradc(data[:2],m,c)\n",
        "print(\"gradient of c for batch 1 : \",gradient_c)\n",
        "deltam = -1*learning_rate*gradient_m\n",
        "deltac = -1*learning_rate*gradient_c\n",
        "print(\"delta m : \",deltam)\n",
        "print(\"delta c : \",deltac)\n",
        "v_m = v_m*momentum_coeff + deltam\n",
        "v_c = v_c*momentum_coeff + deltac\n",
        "print(\"Velocity of m : \",v_m)\n",
        "print(\"Velocity of c : \",v_c)\n",
        "m = m + v_m\n",
        "c = c + v_c\n",
        "print(\"m : \",m)\n",
        "print(\"c : \",c)\n",
        "\n",
        "\n",
        "print(\"\\nBatch 2\")\n",
        "gradient_m = gradm(data[2:4],m,c)\n",
        "print(\"gradient of m for batch 2 : \",gradient_m)\n",
        "gradient_c = gradc(data[2:4],m,c)\n",
        "print(\"gradient of c for batch 2 : \",gradient_c)\n",
        "deltam = -1*learning_rate*gradient_m\n",
        "deltac = -1*learning_rate*gradient_c\n",
        "print(\"delta m : \",deltam)\n",
        "print(\"delta c : \",deltac)\n",
        "v_m = v_m*momentum_coeff + deltam\n",
        "v_c = v_c*momentum_coeff + deltac\n",
        "print(\"Velocity of m : \",v_m)\n",
        "print(\"Velocity of c : \",v_c)\n",
        "m = m + v_m\n",
        "c = c + v_c\n",
        "print(\"m : \",m)\n",
        "print(\"c : \",c)"
      ],
      "execution_count": 6,
      "outputs": [
        {
          "output_type": "stream",
          "text": [
            "sample x values :  [0.2, 0.4, 0.6, 0.8, 1.0, 1.2]\n",
            "sample y values :  [3.4, 3.8, 4.2, 4.6, 5.0, 5.4]\n",
            "initial m value :  1\n",
            "initial c value :  -1\n",
            "learning rate :  0.01\n",
            "batch size :  2\n",
            "initial values of vm and vc :  0 0\n",
            "momentum_coeff :  0.9\n",
            "\n",
            "Batch 1\n",
            "gradient of m for batch 1 :  -1.3\n",
            "gradient of c for batch 1 :  -4.3\n",
            "delta m :  0.013000000000000001\n",
            "delta c :  0.043\n",
            "Velocity of m :  0.013000000000000001\n",
            "Velocity of c :  0.043\n",
            "m :  1.013\n",
            "c :  -0.957\n",
            "\n",
            "Batch 2\n",
            "gradient of m for batch 2 :  -3.2634\n",
            "gradient of c for batch 2 :  -4.6479\n",
            "delta m :  0.032633999999999996\n",
            "delta c :  0.046479\n",
            "Velocity of m :  0.044334\n",
            "Velocity of c :  0.085179\n",
            "m :  1.057334\n",
            "c :  -0.871821\n"
          ],
          "name": "stdout"
        }
      ]
    },
    {
      "cell_type": "markdown",
      "metadata": {
        "id": "w1dGSlce05DE"
      },
      "source": [
        "Code"
      ]
    },
    {
      "cell_type": "code",
      "metadata": {
        "id": "6jfm4kby06Pr"
      },
      "source": [
        "number_of_samples = 6\n",
        "learning_rate = 0.1\n",
        "epochs = 100\n",
        "batch_size = 2\n",
        "m = -1\n",
        "c = 1\n",
        "\n",
        "v_m = 0\n",
        "v_c = 0\n",
        "momentum_coeff = 0.9\n",
        "number_of_batches = number_of_samples//batch_size"
      ],
      "execution_count": 7,
      "outputs": []
    },
    {
      "cell_type": "code",
      "metadata": {
        "colab": {
          "base_uri": "https://localhost:8080/"
        },
        "id": "AlKHtBvD090q",
        "outputId": "720e96fd-7633-43dc-f4a3-969de11f7705"
      },
      "source": [
        "x = [0.2,0.4,0.6,0.8,1.0,1.2]\n",
        "y = [3.4,3.8,4.2,4.6,5.0,5.4]\n",
        "\n",
        "data = list()\n",
        "\n",
        "for i in range(6):\n",
        "  data.append((x[i],y[i]))\n",
        "\n",
        "print(data)"
      ],
      "execution_count": 8,
      "outputs": [
        {
          "output_type": "stream",
          "text": [
            "[(0.2, 3.4), (0.4, 3.8), (0.6, 4.2), (0.8, 4.6), (1.0, 5.0), (1.2, 5.4)]\n"
          ],
          "name": "stdout"
        }
      ]
    },
    {
      "cell_type": "code",
      "metadata": {
        "id": "S40vKnhY1Cyj"
      },
      "source": [
        "error_list = []\n",
        "for i in range(epochs):\n",
        "  for j in range(number_of_batches):\n",
        "    if j == number_of_batches:\n",
        "      d = data[j*batch_size:]\n",
        "    else:\n",
        "      d = data[j*batch_size:(j+1)*batch_size]\n",
        "    deltam = -1*learning_rate*gradm(d,m,c)\n",
        "    deltac = -1*learning_rate*gradc(d,m,c)\n",
        "\n",
        "    v_m = v_m*momentum_coeff + deltam\n",
        "    v_c = v_c*momentum_coeff + deltac\n",
        "\n",
        "    m = m + v_m\n",
        "    c = c + v_c\n",
        "    \n",
        "    error_list.append(error(d,m,c))\n",
        "  random.shuffle(data)"
      ],
      "execution_count": 9,
      "outputs": []
    },
    {
      "cell_type": "code",
      "metadata": {
        "colab": {
          "base_uri": "https://localhost:8080/",
          "height": 312
        },
        "id": "7_BoAWkv1HTJ",
        "outputId": "8ae61fa0-9a80-4ecd-d067-656e2e222b61"
      },
      "source": [
        "x1 = range(epochs*(number_of_batches))\n",
        "y1 = error_list\n",
        "\n",
        "plt.plot(x1,y1)\n",
        "plt.xlabel(\"number of updations\")\n",
        "plt.ylabel(\"error\")\n",
        "plt.title(\"error graph in case of Mini Batch GD\")"
      ],
      "execution_count": 10,
      "outputs": [
        {
          "output_type": "execute_result",
          "data": {
            "text/plain": [
              "Text(0.5, 1.0, 'error graph in case of Mini Batch GD')"
            ]
          },
          "metadata": {
            "tags": []
          },
          "execution_count": 10
        },
        {
          "output_type": "display_data",
          "data": {
            "image/png": "[encoded data removed]",
            "text/plain": [
              "<Figure size 432x288 with 1 Axes>"
            ]
          },
          "metadata": {
            "tags": [],
            "needs_background": "light"
          }
        }
      ]
    },
    {
      "cell_type": "code",
      "metadata": {
        "colab": {
          "base_uri": "https://localhost:8080/",
          "height": 298
        },
        "id": "zPZRL9JG1K1D",
        "outputId": "bc2c9cd9-393d-43cb-ef88-34e6615d7da3"
      },
      "source": [
        "x2 = range(0,3)\n",
        "y2 = [m*i+c for i in x2]\n",
        "\n",
        "plt.plot(x2,y2)\n",
        "plt.scatter(x,y)\n",
        "plt.title(\"line which is generated after training\")"
      ],
      "execution_count": 11,
      "outputs": [
        {
          "output_type": "execute_result",
          "data": {
            "text/plain": [
              "Text(0.5, 1.0, 'line which is generated after training')"
            ]
          },
          "metadata": {
            "tags": []
          },
          "execution_count": 11
        },
        {
          "output_type": "display_data",
          "data": {
            "image/png": "[encoded data removed]",
            "text/plain": [
              "<Figure size 432x288 with 1 Axes>"
            ]
          },
          "metadata": {
            "tags": [],
            "needs_background": "light"
          }
        }
      ]
    },
    {
      "cell_type": "code",
      "metadata": {
        "colab": {
          "base_uri": "https://localhost:8080/"
        },
        "id": "s7OUYbCJ1VjD",
        "outputId": "1539c91c-08ca-44d9-ea35-bc99bffd7b17"
      },
      "source": [
        "print(\"optimal value of m, c :\",m,c)"
      ],
      "execution_count": 12,
      "outputs": [
        {
          "output_type": "stream",
          "text": [
            "optimal value of m, c : 2.0000001301024937 2.9999992220602234\n"
          ],
          "name": "stdout"
        }
      ]
    }
  ]
}